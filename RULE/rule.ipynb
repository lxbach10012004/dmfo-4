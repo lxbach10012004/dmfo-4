{
 "cells": [
  {
   "cell_type": "markdown",
   "id": "6621da8b",
   "metadata": {
    "papermill": {
     "duration": 0.002652,
     "end_time": "2024-12-15T05:21:16.445497",
     "exception": false,
     "start_time": "2024-12-15T05:21:16.442845",
     "status": "completed"
    },
    "tags": []
   },
   "source": [
    "# Rule-based prediction"
   ]
  },
  {
   "cell_type": "code",
   "execution_count": 1,
   "id": "4d0f427e",
   "metadata": {
    "_cell_guid": "b1076dfc-b9ad-4769-8c92-a6c4dae69d19",
    "_uuid": "8f2839f25d086af736a60e9eeb907d3b93b6e0e5",
    "execution": {
     "iopub.execute_input": "2024-12-15T05:21:16.451805Z",
     "iopub.status.busy": "2024-12-15T05:21:16.451369Z",
     "iopub.status.idle": "2024-12-15T09:18:26.821385Z",
     "shell.execute_reply": "2024-12-15T09:18:26.820039Z"
    },
    "papermill": {
     "duration": 14230.376024,
     "end_time": "2024-12-15T09:18:26.823898",
     "exception": false,
     "start_time": "2024-12-15T05:21:16.447874",
     "status": "completed"
    },
    "tags": []
   },
   "outputs": [
    {
     "name": "stdout",
     "output_type": "stream",
     "text": [
      "Processing articles_testing_split_1.tsv...\n"
     ]
    },
    {
     "name": "stderr",
     "output_type": "stream",
     "text": [
      "Processing articles_testing_split_1.tsv: 100%|██████████| 4878/4878 [26:08<00:00,  3.11it/s]\n"
     ]
    },
    {
     "name": "stdout",
     "output_type": "stream",
     "text": [
      "Saved processed file to /kaggle/working/processed_articles_testing_split_1.tsv\n",
      "Processing articles_testing_split_2.tsv...\n"
     ]
    },
    {
     "name": "stderr",
     "output_type": "stream",
     "text": [
      "Processing articles_testing_split_2.tsv: 100%|██████████| 4878/4878 [25:53<00:00,  3.14it/s]\n"
     ]
    },
    {
     "name": "stdout",
     "output_type": "stream",
     "text": [
      "Saved processed file to /kaggle/working/processed_articles_testing_split_2.tsv\n",
      "Processing articles_testing_split_3.tsv...\n"
     ]
    },
    {
     "name": "stderr",
     "output_type": "stream",
     "text": [
      "Processing articles_testing_split_3.tsv: 100%|██████████| 4878/4878 [25:55<00:00,  3.14it/s]\n"
     ]
    },
    {
     "name": "stdout",
     "output_type": "stream",
     "text": [
      "Saved processed file to /kaggle/working/processed_articles_testing_split_3.tsv\n",
      "Processing articles_testing_split_4.tsv...\n"
     ]
    },
    {
     "name": "stderr",
     "output_type": "stream",
     "text": [
      "Processing articles_testing_split_4.tsv: 100%|██████████| 4878/4878 [26:36<00:00,  3.05it/s]\n"
     ]
    },
    {
     "name": "stdout",
     "output_type": "stream",
     "text": [
      "Saved processed file to /kaggle/working/processed_articles_testing_split_4.tsv\n",
      "Processing articles_testing_split_5.tsv...\n"
     ]
    },
    {
     "name": "stderr",
     "output_type": "stream",
     "text": [
      "Processing articles_testing_split_5.tsv: 100%|██████████| 4878/4878 [26:47<00:00,  3.04it/s]\n"
     ]
    },
    {
     "name": "stdout",
     "output_type": "stream",
     "text": [
      "Saved processed file to /kaggle/working/processed_articles_testing_split_5.tsv\n",
      "Processing articles_testing_split_6.tsv...\n"
     ]
    },
    {
     "name": "stderr",
     "output_type": "stream",
     "text": [
      "Processing articles_testing_split_6.tsv: 100%|██████████| 4878/4878 [26:16<00:00,  3.09it/s]\n"
     ]
    },
    {
     "name": "stdout",
     "output_type": "stream",
     "text": [
      "Saved processed file to /kaggle/working/processed_articles_testing_split_6.tsv\n",
      "Processing articles_testing_split_7.tsv...\n"
     ]
    },
    {
     "name": "stderr",
     "output_type": "stream",
     "text": [
      "Processing articles_testing_split_7.tsv: 100%|██████████| 4878/4878 [26:44<00:00,  3.04it/s]\n"
     ]
    },
    {
     "name": "stdout",
     "output_type": "stream",
     "text": [
      "Saved processed file to /kaggle/working/processed_articles_testing_split_7.tsv\n",
      "Processing articles_testing_split_8.tsv...\n"
     ]
    },
    {
     "name": "stderr",
     "output_type": "stream",
     "text": [
      "Processing articles_testing_split_8.tsv: 100%|██████████| 4878/4878 [26:46<00:00,  3.04it/s]\n"
     ]
    },
    {
     "name": "stdout",
     "output_type": "stream",
     "text": [
      "Saved processed file to /kaggle/working/processed_articles_testing_split_8.tsv\n",
      "Processing articles_testing_split_9.tsv...\n"
     ]
    },
    {
     "name": "stderr",
     "output_type": "stream",
     "text": [
      "Processing articles_testing_split_9.tsv: 100%|██████████| 4879/4879 [25:33<00:00,  3.18it/s]\n"
     ]
    },
    {
     "name": "stdout",
     "output_type": "stream",
     "text": [
      "Saved processed file to /kaggle/working/processed_articles_testing_split_9.tsv\n",
      "Processing complete for selected split files.\n"
     ]
    }
   ],
   "source": [
    "import pandas as pd\n",
    "from tqdm import tqdm\n",
    "import os\n",
    "\n",
    "# Load the training dataset\n",
    "train_df = pd.read_csv(\"/kaggle/input/kpdlhlv-9-splits/articles_training.tsv\", sep=\"\\t\")\n",
    "\n",
    "# Extract all unique tags from the training dataset\n",
    "unique_tags = set()\n",
    "train_df['tags'].str.split(',').apply(unique_tags.update)\n",
    "\n",
    "# Define the folder containing the split test sets\n",
    "split_folder = \"/kaggle/input/kpdlhlv-9-splits\"\n",
    "output_folder = \"/kaggle/working\"\n",
    "\n",
    "# List of split files to process\n",
    "split_files = [\n",
    "    \"articles_testing_split_1.tsv\",\n",
    "    \"articles_testing_split_2.tsv\",\n",
    "    \"articles_testing_split_3.tsv\",\n",
    "    \"articles_testing_split_4.tsv\",\n",
    "    \"articles_testing_split_5.tsv\",\n",
    "    \"articles_testing_split_6.tsv\",\n",
    "    \"articles_testing_split_7.tsv\",\n",
    "    \"articles_testing_split_8.tsv\",\n",
    "    \"articles_testing_split_9.tsv\",\n",
    "] \n",
    "\n",
    "# Function to find tags in a content entry\n",
    "def find_tags(content, tag_set):\n",
    "    found_tags = [tag for tag in tag_set if tag in content]\n",
    "    return ','.join(found_tags)\n",
    "\n",
    "# Process each split file\n",
    "for split_file in split_files:\n",
    "    split_path = os.path.join(split_folder, split_file)\n",
    "    \n",
    "    # Load the split file\n",
    "    print(f\"Processing {split_file}...\")\n",
    "    split_df = pd.read_csv(split_path, sep=\"\\t\")\n",
    "    \n",
    "    # Apply the tag extraction function with a progress bar\n",
    "    tqdm.pandas(desc=f\"Processing {split_file}\")\n",
    "    split_df['tags'] = split_df['content'].progress_apply(lambda x: find_tags(x, unique_tags))\n",
    "    \n",
    "    # Save the updated split file\n",
    "    output_path = os.path.join(output_folder, f\"processed_{split_file}\")\n",
    "    split_df.to_csv(output_path, sep=\"\\t\", index=False)\n",
    "    print(f\"Saved processed file to {output_path}\")\n",
    "\n",
    "print(\"Processing complete for selected split files.\")\n"
   ]
  },
  {
   "cell_type": "markdown",
   "id": "b1b7180b",
   "metadata": {
    "papermill": {
     "duration": 2.634366,
     "end_time": "2024-12-15T09:18:31.974484",
     "exception": false,
     "start_time": "2024-12-15T09:18:29.340118",
     "status": "completed"
    },
    "tags": []
   },
   "source": [
    "# Integrate the predicted splitted sets"
   ]
  },
  {
   "cell_type": "code",
   "execution_count": 2,
   "id": "83f77e2b",
   "metadata": {
    "execution": {
     "iopub.execute_input": "2024-12-15T09:18:37.020497Z",
     "iopub.status.busy": "2024-12-15T09:18:37.020057Z",
     "iopub.status.idle": "2024-12-15T09:18:47.244824Z",
     "shell.execute_reply": "2024-12-15T09:18:47.243445Z"
    },
    "papermill": {
     "duration": 12.799182,
     "end_time": "2024-12-15T09:18:47.247377",
     "exception": false,
     "start_time": "2024-12-15T09:18:34.448195",
     "status": "completed"
    },
    "tags": []
   },
   "outputs": [
    {
     "name": "stdout",
     "output_type": "stream",
     "text": [
      "Merged file saved as /kaggle/working/articles_testing_with_tags_merged.tsv\n"
     ]
    }
   ],
   "source": [
    "import pandas as pd\n",
    "import os\n",
    "\n",
    "# Define the folder containing the processed split files\n",
    "split_folder = \"/kaggle/working/\"\n",
    "\n",
    "# List of processed split files in the correct order\n",
    "processed_files = [\n",
    "    \"processed_articles_testing_split_1.tsv\",\n",
    "    \"processed_articles_testing_split_2.tsv\",\n",
    "    \"processed_articles_testing_split_3.tsv\",\n",
    "    \"processed_articles_testing_split_4.tsv\",\n",
    "    \"processed_articles_testing_split_5.tsv\",\n",
    "    \"processed_articles_testing_split_6.tsv\",\n",
    "    \"processed_articles_testing_split_7.tsv\",\n",
    "    \"processed_articles_testing_split_8.tsv\",\n",
    "    \"processed_articles_testing_split_9.tsv\",\n",
    "    # Add other split filenames here in the correct order\n",
    "]\n",
    "\n",
    "# Read and concatenate the split files in the correct order\n",
    "merged_df = pd.concat(\n",
    "    [pd.read_csv(os.path.join(split_folder, file), sep=\"\\t\") for file in processed_files],\n",
    "    ignore_index=True\n",
    ")\n",
    "\n",
    "# Save the merged dataset\n",
    "output_path = os.path.join(split_folder, \"articles_testing_with_tags_merged.tsv\")\n",
    "merged_df.to_csv(output_path, sep=\"\\t\", index=False)\n",
    "\n",
    "print(f\"Merged file saved as {output_path}\")\n"
   ]
  },
  {
   "cell_type": "markdown",
   "id": "48f3cf24",
   "metadata": {
    "papermill": {
     "duration": 2.507431,
     "end_time": "2024-12-15T09:18:52.486280",
     "exception": false,
     "start_time": "2024-12-15T09:18:49.978849",
     "status": "completed"
    },
    "tags": []
   },
   "source": [
    "# Post-processing (keep whole word only)"
   ]
  },
  {
   "cell_type": "code",
   "execution_count": 3,
   "id": "5e3aa432",
   "metadata": {
    "execution": {
     "iopub.execute_input": "2024-12-15T09:18:57.590387Z",
     "iopub.status.busy": "2024-12-15T09:18:57.589023Z",
     "iopub.status.idle": "2024-12-15T09:28:52.176279Z",
     "shell.execute_reply": "2024-12-15T09:28:52.174915Z"
    },
    "papermill": {
     "duration": 599.674395,
     "end_time": "2024-12-15T09:28:54.765032",
     "exception": false,
     "start_time": "2024-12-15T09:18:55.090637",
     "status": "completed"
    },
    "tags": []
   },
   "outputs": [
    {
     "name": "stdout",
     "output_type": "stream",
     "text": [
      "Filtered results saved to sol3.tsv\n"
     ]
    }
   ],
   "source": [
    "import pandas as pd\n",
    "import re\n",
    "\n",
    "# Function to filter tags based on whole-word or whole-phrase matching\n",
    "def filter_whole_phrase_tags(content, tags):\n",
    "    # Prepare content for matching: add space padding to ensure proper boundaries\n",
    "    padded_content = f\" {content} \"\n",
    "    filtered_tags = []\n",
    "    for tag in tags.split(','):\n",
    "        # Add space padding to tag to ensure it matches whole phrases only\n",
    "        pattern = re.escape(tag.strip())\n",
    "        if re.search(rf'\\b{pattern}\\b', padded_content):\n",
    "            filtered_tags.append(tag)\n",
    "    return ','.join(filtered_tags)\n",
    "\n",
    "# Load the predicted results file\n",
    "input_file = \"/kaggle/working/articles_testing_with_tags_merged.tsv\"  # Replace with the actual file path\n",
    "output_file = \"sol3.tsv\"\n",
    "\n",
    "df = pd.read_csv(input_file, sep=\"\\t\")\n",
    "\n",
    "# Apply the filtering function\n",
    "df['tags'] = df.apply(lambda row: filter_whole_phrase_tags(row['content'], row['tags']), axis=1)\n",
    "\n",
    "# Save the filtered results\n",
    "df.to_csv(output_file, sep=\"\\t\", index=False)\n",
    "\n",
    "print(f\"Filtered results saved to {output_file}\")\n"
   ]
  }
 ],
 "metadata": {
  "kaggle": {
   "accelerator": "none",
   "dataSources": [
    {
     "datasetId": 6296686,
     "sourceId": 10191314,
     "sourceType": "datasetVersion"
    },
    {
     "datasetId": 6190027,
     "sourceId": 10180465,
     "sourceType": "datasetVersion"
    }
   ],
   "dockerImageVersionId": 30804,
   "isGpuEnabled": false,
   "isInternetEnabled": true,
   "language": "python",
   "sourceType": "notebook"
  },
  "kernelspec": {
   "display_name": "Python 3",
   "language": "python",
   "name": "python3"
  },
  "language_info": {
   "codemirror_mode": {
    "name": "ipython",
    "version": 3
   },
   "file_extension": ".py",
   "mimetype": "text/x-python",
   "name": "python",
   "nbconvert_exporter": "python",
   "pygments_lexer": "ipython3",
   "version": "3.10.14"
  },
  "papermill": {
   "default_parameters": {},
   "duration": 14864.718136,
   "end_time": "2024-12-15T09:28:58.139585",
   "environment_variables": {},
   "exception": null,
   "input_path": "__notebook__.ipynb",
   "output_path": "__notebook__.ipynb",
   "parameters": {},
   "start_time": "2024-12-15T05:21:13.421449",
   "version": "2.6.0"
  }
 },
 "nbformat": 4,
 "nbformat_minor": 5
}
